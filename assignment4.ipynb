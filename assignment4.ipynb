{
 "cells": [
  {
   "cell_type": "markdown",
   "metadata": {},
   "source": [
    "# Assignment 4 Convolutional Network (CNN)\n",
    "In this homework you will practice how to create Convolutional Neural Network (CNN) in Tensorflow 2.0 using Keras APIs. First, you will construct CNN by follow the specific requirements and architectures. Then, you will construct you own CNN to achieve a certain accuracy on testing data. Both CNNs will be trained on CIFAR-10 dataset."
   ]
  },
  {
   "cell_type": "code",
   "execution_count": 1,
   "metadata": {},
   "outputs": [
    {
     "data": {
      "text/plain": [
       "<Figure size 1000x1000 with 25 Axes>"
      ]
     },
     "metadata": {},
     "output_type": "display_data"
    }
   ],
   "source": [
    "# A bit of setup and verify data\n",
    "import tensorflow as tf\n",
    "from tensorflow.keras import datasets, layers, models, optimizers\n",
    "import matplotlib.pyplot as plt\n",
    "\n",
    "\n",
    "(train_images, train_labels), (test_images, test_labels) = datasets.cifar10.load_data()\n",
    "\n",
    "# Normalize pixel values to be between 0 and 1\n",
    "train_images, test_images = train_images / 255.0, test_images / 255.0\n",
    "\n",
    "\n",
    "class_names = ['airplane', 'automobile', 'bird', 'cat', 'deer',\n",
    "               'dog', 'frog', 'horse', 'ship', 'truck']\n",
    "\n",
    "plt.figure(figsize=(10,10))\n",
    "for i in range(25):\n",
    "    plt.subplot(5,5,i+1)\n",
    "    plt.xticks([])\n",
    "    plt.yticks([])\n",
    "    plt.grid(False)\n",
    "    plt.imshow(train_images[i], cmap=plt.cm.binary)\n",
    "    plt.xlabel(class_names[train_labels[i][0]])\n",
    "plt.show()"
   ]
  },
  {
   "cell_type": "markdown",
   "metadata": {},
   "source": [
    "## Create CNN model\n",
    "Fill codes between TO DO block to construct the model by follow these requreiments and architecture\n",
    "- 32 of 5x5 filters with stride 1\n",
    "- Relu activation\n",
    "- 64 of 5x5 filters with stride 1\n",
    "- Relu activation\n",
    "- 2x2 Max Pooling with stride 2\n",
    "- Fully connected with 1024 hidden neurons\n",
    "- Relu activation\n",
    "- Fully connected that map to 10 output classes\n",
    "- Softmax\n"
   ]
  },
  {
   "cell_type": "code",
   "execution_count": 2,
   "metadata": {},
   "outputs": [],
   "source": [
    "model = models.Sequential()\n",
    "\n",
    "# TO DO\n",
    "model.add(tf.keras.layers.Conv2D(32, (5, 5),activation='relu'))\n",
    "model.add(tf.keras.layers.Conv2D(64, (5, 5),activation='relu'))\n",
    "model.add(tf.keras.layers.MaxPool2D(pool_size=(2, 2),strides=2))\n",
    "model.add(tf.keras.layers.Flatten(input_shape=(4, 1)))\n",
    "model.add(tf.keras.layers.Dense(1024, activation='relu'))\n",
    "model.add(tf.keras.layers.Dense(10, activation='softmax'))\n",
    "\n",
    "# END TO DO\n",
    "\n",
    "#model.summary()"
   ]
  },
  {
   "cell_type": "markdown",
   "metadata": {},
   "source": [
    "## Define optimizer and fit model\n",
    "- Adam optimizer with learning rate = 1e-5\n",
    "- Show loss and accruacy\n",
    "- Train for 10 epoches\n",
    "- Use batch size = 128\n",
    "- Split validation data from training data by using split 90:10\n"
   ]
  },
  {
   "cell_type": "code",
   "execution_count": 3,
   "metadata": {},
   "outputs": [
    {
     "name": "stdout",
     "output_type": "stream",
     "text": [
      "Train on 45000 samples, validate on 5000 samples\n",
      "Epoch 1/10\n",
      "45000/45000 [==============================] - 159s 4ms/sample - loss: 1.4546 - accuracy: 0.4761 - val_loss: 1.2458 - val_accuracy: 0.5494\n",
      "Epoch 2/10\n",
      "45000/45000 [==============================] - 158s 4ms/sample - loss: 1.0707 - accuracy: 0.6233 - val_loss: 1.0941 - val_accuracy: 0.6162\n",
      "Epoch 3/10\n",
      "45000/45000 [==============================] - 158s 4ms/sample - loss: 0.8339 - accuracy: 0.7112 - val_loss: 1.0092 - val_accuracy: 0.6614\n",
      "Epoch 4/10\n",
      "45000/45000 [==============================] - 162s 4ms/sample - loss: 0.5890 - accuracy: 0.7963 - val_loss: 1.0687 - val_accuracy: 0.6630\n",
      "Epoch 5/10\n",
      "45000/45000 [==============================] - 680s 15ms/sample - loss: 0.3549 - accuracy: 0.8795 - val_loss: 1.2072 - val_accuracy: 0.6644\n",
      "Epoch 6/10\n",
      "45000/45000 [==============================] - 165s 4ms/sample - loss: 0.2028 - accuracy: 0.9301 - val_loss: 1.6167 - val_accuracy: 0.6568\n",
      "Epoch 7/10\n",
      "45000/45000 [==============================] - 164s 4ms/sample - loss: 0.1405 - accuracy: 0.9536 - val_loss: 1.8332 - val_accuracy: 0.6498\n",
      "Epoch 8/10\n",
      "45000/45000 [==============================] - 165s 4ms/sample - loss: 0.1125 - accuracy: 0.9633 - val_loss: 2.0239 - val_accuracy: 0.6534\n",
      "Epoch 9/10\n",
      "45000/45000 [==============================] - 172s 4ms/sample - loss: 0.1042 - accuracy: 0.9657 - val_loss: 2.3013 - val_accuracy: 0.6490\n",
      "Epoch 10/10\n",
      "45000/45000 [==============================] - 170s 4ms/sample - loss: 0.0919 - accuracy: 0.9702 - val_loss: 2.4099 - val_accuracy: 0.6506\n"
     ]
    }
   ],
   "source": [
    "# TO DO\n",
    "model.compile(optimizer='adam',\n",
    "              loss='sparse_categorical_crossentropy',\n",
    "              metrics=['accuracy'])\n",
    "history=model.fit(train_images,train_labels,epochs=10, validation_split=0.10)\n",
    "\n",
    "\n",
    "# END TO DO"
   ]
  },
  {
   "cell_type": "markdown",
   "metadata": {},
   "source": [
    "## Evaluate the model"
   ]
  },
  {
   "cell_type": "code",
   "execution_count": 4,
   "metadata": {},
   "outputs": [
    {
     "name": "stdout",
     "output_type": "stream",
     "text": [
      "10000/1 - 6s - loss: 3.0200 - accuracy: 0.6356\n"
     ]
    },
    {
     "data": {
      "image/png": "[encoded data removed]",
      "text/plain": [
       "<Figure size 432x288 with 1 Axes>"
      ]
     },
     "metadata": {
      "needs_background": "light"
     },
     "output_type": "display_data"
    }
   ],
   "source": [
    "import matplotlib.pyplot as plt\n",
    "plt.plot(history.history['accuracy'], label='accuracy')\n",
    "plt.plot(history.history['val_accuracy'], label = 'val_accuracy')\n",
    "plt.xlabel('Epoch')\n",
    "plt.ylabel('Accuracy')\n",
    "plt.legend(loc='lower right')\n",
    "\n",
    "test_loss, test_acc = model.evaluate(test_images,  test_labels, verbose=2)"
   ]
  },
  {
   "cell_type": "markdown",
   "metadata": {},
   "source": [
    "## Build your own model\n",
    "Construct the model in TO DO block to get the test accuracy > ~70%. You can use any available techniques.\n",
    "- Initialization\n",
    "- Early stop\n",
    "- Optimizer\n",
    "- Value of hyper parameters\n",
    "- Drop out\n",
    "- etc."
   ]
  },
  {
   "cell_type": "code",
   "execution_count": 3,
   "metadata": {},
   "outputs": [
    {
     "name": "stdout",
     "output_type": "stream",
     "text": [
      "Train on 50000 samples, validate on 10000 samples\n",
      "Epoch 1/10\n",
      "50000/50000 [==============================] - 38s 760us/sample - loss: 1.4723 - accuracy: 0.4660 - val_loss: 1.2555 - val_accuracy: 0.5481\n",
      "Epoch 2/10\n",
      "50000/50000 [==============================] - 41s 829us/sample - loss: 1.1025 - accuracy: 0.6113 - val_loss: 1.0481 - val_accuracy: 0.6276\n",
      "Epoch 3/10\n",
      "50000/50000 [==============================] - 37s 740us/sample - loss: 0.9463 - accuracy: 0.6693 - val_loss: 0.9508 - val_accuracy: 0.6680\n",
      "Epoch 4/10\n",
      "50000/50000 [==============================] - 39s 781us/sample - loss: 0.8447 - accuracy: 0.7052 - val_loss: 0.8915 - val_accuracy: 0.6854\n",
      "Epoch 5/10\n",
      "50000/50000 [==============================] - 36s 720us/sample - loss: 0.7614 - accuracy: 0.7352 - val_loss: 0.8740 - val_accuracy: 0.7010\n",
      "Epoch 6/10\n",
      "50000/50000 [==============================] - 36s 712us/sample - loss: 0.6979 - accuracy: 0.7554 - val_loss: 0.8414 - val_accuracy: 0.7206\n",
      "Epoch 7/10\n",
      "50000/50000 [==============================] - 39s 789us/sample - loss: 0.6402 - accuracy: 0.7762 - val_loss: 0.9231 - val_accuracy: 0.6929\n",
      "Epoch 8/10\n",
      "50000/50000 [==============================] - 36s 716us/sample - loss: 0.5815 - accuracy: 0.7968 - val_loss: 0.8530 - val_accuracy: 0.7161\n",
      "Epoch 9/10\n",
      "50000/50000 [==============================] - 37s 734us/sample - loss: 0.5414 - accuracy: 0.8105 - val_loss: 0.8379 - val_accuracy: 0.7280\n",
      "Epoch 10/10\n",
      "50000/50000 [==============================] - 37s 747us/sample - loss: 0.4960 - accuracy: 0.8244 - val_loss: 0.8846 - val_accuracy: 0.7190\n",
      "Model: \"sequential_1\"\n",
      "_________________________________________________________________\n",
      "Layer (type)                 Output Shape              Param #   \n",
      "=================================================================\n",
      "conv2d_3 (Conv2D)            multiple                  896       \n",
      "_________________________________________________________________\n",
      "max_pooling2d_2 (MaxPooling2 multiple                  0         \n",
      "_________________________________________________________________\n",
      "conv2d_4 (Conv2D)            multiple                  18496     \n",
      "_________________________________________________________________\n",
      "max_pooling2d_3 (MaxPooling2 multiple                  0         \n",
      "_________________________________________________________________\n",
      "conv2d_5 (Conv2D)            multiple                  73856     \n",
      "_________________________________________________________________\n",
      "flatten_1 (Flatten)          multiple                  0         \n",
      "_________________________________________________________________\n",
      "dense_2 (Dense)              multiple                  131136    \n",
      "_________________________________________________________________\n",
      "dense_3 (Dense)              multiple                  650       \n",
      "=================================================================\n",
      "Total params: 225,034\n",
      "Trainable params: 225,034\n",
      "Non-trainable params: 0\n",
      "_________________________________________________________________\n",
      "10000/1 - 2s - loss: 1.0232 - accuracy: 0.7190\n"
     ]
    }
   ],
   "source": [
    "model = models.Sequential()\n",
    "\n",
    "# TO DO\n",
    "model.add(layers.Conv2D(32, (3, 3), activation='relu'))\n",
    "model.add(layers.MaxPooling2D((2, 2)))\n",
    "model.add(layers.Conv2D(64, (3, 3), activation='relu'))\n",
    "model.add(layers.MaxPooling2D((2, 2)))\n",
    "model.add(layers.Conv2D(128, (3, 3), activation='relu'))\n",
    "model.add(layers.Flatten())\n",
    "model.add(layers.Dense(64, activation='relu'))\n",
    "model.add(layers.Dense(10, activation='softmax'))\n",
    "\n",
    "model.compile(optimizer='adam',\n",
    "              loss='sparse_categorical_crossentropy',\n",
    "              metrics=['accuracy'])\n",
    "history = model.fit(train_images, train_labels, epochs=10, \n",
    "                    validation_data=(test_images, test_labels))\n",
    "\n",
    "\n",
    "# END TODO\n",
    "\n",
    "model.summary()\n",
    "test_loss, test_acc = model.evaluate(test_images,  test_labels, verbose=2)"
   ]
  },
  {
   "cell_type": "code",
   "execution_count": null,
   "metadata": {},
   "outputs": [],
   "source": []
  }
 ],
 "metadata": {
  "kernelspec": {
   "display_name": "Python 3",
   "language": "python",
   "name": "python3"
  },
  "language_info": {
   "codemirror_mode": {
    "name": "ipython",
    "version": 3
   },
   "file_extension": ".py",
   "mimetype": "text/x-python",
   "name": "python",
   "nbconvert_exporter": "python",
   "pygments_lexer": "ipython3",
   "version": "3.7.4"
  }
 },
 "nbformat": 4,
 "nbformat_minor": 4
}
